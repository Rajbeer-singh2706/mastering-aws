{
 "cells": [
  {
   "cell_type": "code",
   "execution_count": 1,
   "id": "b2939559-60b1-4dfc-949b-c106c8e9698d",
   "metadata": {},
   "outputs": [
    {
     "name": "stdout",
     "output_type": "stream",
     "text": [
      "2023-06-20 16:17:20 aws-glue-assets-350261890139-ap-south-1\n",
      "2023-07-08 12:32:17 aws-learning-material-2023\n",
      "2023-06-20 10:15:24 crawlerfiles20june2023\n",
      "2023-07-10 16:27:14 flights-data-10072023\n",
      "2023-06-20 17:28:37 glue-testing-cfn-templates\n",
      "2023-06-20 17:29:04 glue-testing-etl-artifacts\n",
      "2023-07-11 11:12:09 glue-testing-etl-source\n",
      "2023-06-20 17:29:53 glue-testing-etl-targets\n",
      "2023-07-06 09:18:28 lambda-code-raj\n",
      "2023-07-06 18:31:00 raj-codebase\n",
      "2023-07-05 11:34:54 raj-github\n",
      "2023-07-10 10:58:55 raj-retail\n"
     ]
    }
   ],
   "source": [
    "! aws s3 ls --profile awsdemo"
   ]
  },
  {
   "cell_type": "code",
   "execution_count": 6,
   "id": "fe51fae9-28fd-4350-adf9-f0f0062b82a1",
   "metadata": {},
   "outputs": [
    {
     "name": "stdout",
     "output_type": "stream",
     "text": [
      "upload: gluejob-templates/gluejob345-databrew/gluejob345.yaml to s3://glue-testing-cfn-templates/gluejob-templates/gluejob345-databrew/gluejob345.yaml\n",
      "upload: gluejob-templates/gluejob2/cfngluejob2.json to s3://glue-testing-cfn-templates/gluejob-templates/gluejob2/cfngluejob2.json\n",
      "upload: gluejob-templates/gluejob2/cfncrawler2.json to s3://glue-testing-cfn-templates/gluejob-templates/gluejob2/cfncrawler2.json\n",
      "upload: gluejob-templates/gluejob1/cfngluejob1.json to s3://glue-testing-cfn-templates/gluejob-templates/gluejob1/cfngluejob1.json\n",
      "upload: gluejob-templates/gluejob1/cfniamrole1.json to s3://glue-testing-cfn-templates/gluejob-templates/gluejob1/cfniamrole1.json\n",
      "upload: gluejob-templates/gluejob2/cfnworkflow2.json to s3://glue-testing-cfn-templates/gluejob-templates/gluejob2/cfnworkflow2.json\n"
     ]
    }
   ],
   "source": [
    "!aws s3 cp ./gluejob-templates/ s3://glue-testing-cfn-templates/gluejob-templates/ --recursive --profile awsdemo"
   ]
  },
  {
   "cell_type": "code",
   "execution_count": 8,
   "id": "91458a74-e28b-4701-b70b-1772c534ff27",
   "metadata": {},
   "outputs": [],
   "source": [
    "!aws s3 sync ./gluejob-templates/ s3://glue-testing-cfn-templates/gluejob-templates/ --profile awsdemo"
   ]
  },
  {
   "cell_type": "code",
   "execution_count": null,
   "id": "8affeb87-914f-4db4-96ae-115277dce6a1",
   "metadata": {},
   "outputs": [],
   "source": [
    "############# Section #################"
   ]
  }
 ],
 "metadata": {
  "kernelspec": {
   "display_name": "Python 3 (ipykernel)",
   "language": "python",
   "name": "python3"
  },
  "language_info": {
   "codemirror_mode": {
    "name": "ipython",
    "version": 3
   },
   "file_extension": ".py",
   "mimetype": "text/x-python",
   "name": "python",
   "nbconvert_exporter": "python",
   "pygments_lexer": "ipython3",
   "version": "3.8.10"
  }
 },
 "nbformat": 4,
 "nbformat_minor": 5
}
