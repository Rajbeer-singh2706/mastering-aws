{
 "cells": [
  {
   "cell_type": "code",
   "execution_count": null,
   "id": "7e222007-b0d9-4134-8c2e-ccdc4f58cf56",
   "metadata": {
    "scrolled": true
   },
   "outputs": [],
   "source": [
    "#! aws cloudformation help\n",
    "#! aws cloudformation create-stack help\n",
    "!aws cloudformation delete-stack help"
   ]
  },
  {
   "cell_type": "code",
   "execution_count": 20,
   "id": "9cd629f8-7ec7-43e7-95ea-4e2e331d430e",
   "metadata": {},
   "outputs": [
    {
     "name": "stdout",
     "output_type": "stream",
     "text": [
      "{\n",
      "    \"StackId\": \"arn:aws:cloudformation:ap-south-1:350261890139:stack/gluejobroleCFN/6d34df60-1fb4-11ee-b204-062935dd6832\"\n",
      "}\n"
     ]
    }
   ],
   "source": [
    "!aws cloudformation create-stack \\\n",
    "--stack-name gluejobroleCFN \\\n",
    "--template-url https://glue-testing-cfn-templates.s3.ap-south-1.amazonaws.com/gluejob-templates/gluejob1/cfniamrole1.json \\\n",
    "--capabilities CAPABILITY_NAMED_IAM \\\n",
    "--region ap-south-1 \\\n",
    "--profile awsdemo"
   ]
  },
  {
   "cell_type": "code",
   "execution_count": 22,
   "id": "6c30a977-4da9-4088-9f60-545dd6b456c7",
   "metadata": {},
   "outputs": [],
   "source": [
    "#!aws cloudformation delete-stack --stack-name gluejobroleCFN --region ap-south-1 --profile awsdemo\n",
    "!aws cloudformation delete-stack --stack-name gluejob1CFN --region ap-south-1 --profile awsdemo"
   ]
  },
  {
   "cell_type": "code",
   "execution_count": 23,
   "id": "5dd10f24-1a1a-4df7-99c9-4780d6bfc416",
   "metadata": {},
   "outputs": [
    {
     "name": "stdout",
     "output_type": "stream",
     "text": [
      "{\n",
      "    \"StackId\": \"arn:aws:cloudformation:ap-south-1:350261890139:stack/gluejob1CFN/91660cf0-1fb5-11ee-b4eb-0223640e7e62\"\n",
      "}\n"
     ]
    }
   ],
   "source": [
    "!aws cloudformation create-stack \\\n",
    "--stack-name gluejob1CFN \\\n",
    "--template-url https://glue-testing-cfn-templates.s3.ap-south-1.amazonaws.com/gluejob-templates/gluejob1/cfngluejob1.json \\\n",
    "--region ap-south-1 \\\n",
    "--profile awsdemo"
   ]
  },
  {
   "cell_type": "code",
   "execution_count": 2,
   "id": "9498b9a7-acc5-4aae-ac98-0ed1f136f27d",
   "metadata": {},
   "outputs": [
    {
     "name": "stdout",
     "output_type": "stream",
     "text": [
      "{\n",
      "    \"StackId\": \"arn:aws:cloudformation:ap-south-1:350261890139:stack/gluejob2/da3c3ab0-1fc6-11ee-9b8a-0a9d5b86b3ec\"\n",
      "}\n"
     ]
    }
   ],
   "source": [
    "!aws cloudformation create-stack --stack-name gluejob2 \\\n",
    "--template-url https://glue-testing-cfn-templates.s3.ap-south-1.amazonaws.com/gluejob-templates/gluejob2/cfngluejob2.json \\\n",
    "--region ap-south-1 --profile awsdemo"
   ]
  },
  {
   "cell_type": "code",
   "execution_count": 3,
   "id": "8d53e4a1-3f70-4a0e-917e-1f47d7ed23f3",
   "metadata": {},
   "outputs": [
    {
     "name": "stdout",
     "output_type": "stream",
     "text": [
      "{\n",
      "    \"StackId\": \"arn:aws:cloudformation:ap-south-1:350261890139:stack/gluecrawler2/a58fed10-1fc7-11ee-b022-06bc71716dd4\"\n",
      "}\n"
     ]
    }
   ],
   "source": [
    "!aws cloudformation create-stack --stack-name gluecrawler2 \\\n",
    "--template-url https://glue-testing-cfn-templates.s3.ap-south-1.amazonaws.com/gluejob-templates/gluejob2/cfncrawler2.json \\\n",
    "--region ap-south-1 --profile awsdemo"
   ]
  },
  {
   "cell_type": "code",
   "execution_count": 5,
   "id": "a15149af-5209-4121-856a-6bc0998ff379",
   "metadata": {},
   "outputs": [
    {
     "name": "stdout",
     "output_type": "stream",
     "text": [
      "{\n",
      "    \"StackId\": \"arn:aws:cloudformation:ap-south-1:350261890139:stack/gluworkflow/e47a8180-1fcb-11ee-89cf-0a0c282c2532\"\n",
      "}\n"
     ]
    }
   ],
   "source": [
    "!aws cloudformation create-stack --stack-name gluworkflow \\\n",
    " --template-url https://glue-testing-cfn-templates.s3.ap-south-1.amazonaws.com/gluejob-templates/gluejob2/cfnworkflow2.json \\\n",
    "--region ap-south-1 --profile awsdemo"
   ]
  },
  {
   "cell_type": "code",
   "execution_count": 6,
   "id": "66354e8b-19e6-48b4-91c1-26ce522d85c9",
   "metadata": {},
   "outputs": [
    {
     "name": "stdout",
     "output_type": "stream",
     "text": [
      "{\n",
      "    \"StackId\": \"arn:aws:cloudformation:ap-south-1:350261890139:stack/gluejob345/4afe26a0-1fd1-11ee-8c55-0a76b266a586\"\n",
      "}\n"
     ]
    }
   ],
   "source": [
    "################### GLue Streaming ###########\n",
    "!aws cloudformation create-stack --stack-name gluejob345 \\\n",
    " --template-url https://glue-testing-cfn-templates.s3.ap-south-1.amazonaws.com/gluejob-templates/gluejob345-databrew/gluejob345.yaml \\\n",
    " --capabilities CAPABILITY_NAMED_IAM \\\n",
    "--region ap-south-1 --profile awsdemo"
   ]
  },
  {
   "cell_type": "code",
   "execution_count": null,
   "id": "4027c5b3-f2a4-4196-b557-c11a4fda793c",
   "metadata": {},
   "outputs": [],
   "source": []
  }
 ],
 "metadata": {
  "kernelspec": {
   "display_name": "Python 3 (ipykernel)",
   "language": "python",
   "name": "python3"
  },
  "language_info": {
   "codemirror_mode": {
    "name": "ipython",
    "version": 3
   },
   "file_extension": ".py",
   "mimetype": "text/x-python",
   "name": "python",
   "nbconvert_exporter": "python",
   "pygments_lexer": "ipython3",
   "version": "3.8.10"
  }
 },
 "nbformat": 4,
 "nbformat_minor": 5
}
