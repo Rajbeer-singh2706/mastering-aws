{
 "cells": [
  {
   "cell_type": "code",
   "execution_count": 1,
   "metadata": {},
   "outputs": [],
   "source": [
    "# Steps to RUN ALL \n",
    "# URL:https://catalog.us-east-1.prod.workshops.aws/workshops/ee59d21b-4cb8-4b3d-a629-24537cf37bb5/en-US/intro"
   ]
  },
  {
   "cell_type": "code",
   "execution_count": null,
   "metadata": {},
   "outputs": [],
   "source": [
    "# Lab 01: Working with Glue Data Catalog\n",
    "\n",
    "# Step 1: Create Database \n",
    "# Step 2 : create the s3 bucket and Load the csv filein bucket  \n",
    "# Step 3 : Create Crawler  \n",
    "'''\n",
    "\n",
    "\n",
    "'''\n",
    "\n",
    "# Step 4: Create a Role : "
   ]
  }
 ],
 "metadata": {
  "kernelspec": {
   "display_name": "upgrad_env",
   "language": "python",
   "name": "python3"
  },
  "language_info": {
   "codemirror_mode": {
    "name": "ipython",
    "version": 3
   },
   "file_extension": ".py",
   "mimetype": "text/x-python",
   "name": "python",
   "nbconvert_exporter": "python",
   "pygments_lexer": "ipython3",
   "version": "3.9.6"
  }
 },
 "nbformat": 4,
 "nbformat_minor": 2
}
