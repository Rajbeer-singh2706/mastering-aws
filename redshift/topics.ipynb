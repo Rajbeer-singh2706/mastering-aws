{
 "cells": [
  {
   "cell_type": "code",
   "execution_count": null,
   "metadata": {},
   "outputs": [],
   "source": [
    "# \n",
    "'''\n",
    " Fact & Dimension Data is loaded to Redshift\n",
    " Power BI connected from REdshift \n",
    " * KPI ( Patients)\n",
    "'''\n",
    "\n"
   ]
  }
 ],
 "metadata": {
  "language_info": {
   "name": "python"
  }
 },
 "nbformat": 4,
 "nbformat_minor": 2
}
